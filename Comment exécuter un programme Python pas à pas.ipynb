{
  "nbformat": 4,
  "nbformat_minor": 0,
  "metadata": {
    "colab": {
      "name": "Comment exécuter un programme Python pas à pas.ipynb",
      "version": "0.3.2",
      "provenance": [],
      "collapsed_sections": []
    },
    "kernelspec": {
      "name": "python3",
      "display_name": "Python 3"
    }
  },
  "cells": [
    {
      "cell_type": "markdown",
      "metadata": {
        "id": "Gx3wbzz8NB6x",
        "colab_type": "text"
      },
      "source": [
        "♻️ *Attention, ce document est mis à jour régulièrement en fonction des remarques, des questions et de l'évolution des environnements.*\n",
        "\n",
        "\n",
        "Pour expliquer aux élèves comment du code Python s'exécute ligne par ligne, il existe un outil très pratique : Python Tutor (http://pythontutor.com).\n",
        "\n",
        "\n",
        "> \"Python Tutor (created by Philip Guo) helps people overcome a fundamental barrier to learning programming: understanding what happens as the computer runs each line of code.\"\n",
        "\n",
        "Python Tutor peut être utilisé en ligne à l’adresse suivante : `http://pythontutor.com/visualize.html#mode=edit`.\n",
        "Mais aussi directement dans un calepin comme expliqué ci-dessous.\n",
        "\n",
        "\n",
        "## Python Tutor dans un calepin\n",
        "\n",
        "Pour pouvoir utiliser Python Tutor dans un calepin, il faut tout d'abord importer les bibliothèques. Pour cela on doit créer une première cellule code quand laquelle on place les lignes suivantes : \n",
        "\n",
        "```python\n",
        "!pip install metakernel\n",
        "from metakernel import register_ipython_magics\n",
        "register_ipython_magics();\n",
        "```\n",
        "\n",
        "Exécutez cette cellule. La liste des bibliothèques s'affiche alors sous la cellule. Une fois que le chargement des bibliothèques est terminé (`Successfully installed metakernel-0.23.0`), pour plus de clarté, vous pouvez effacer le contenu de la console en cliquant sur la croix en haut à gauche (`Clear ouput`).\n",
        "\n",
        "Dans une seconde cellule, vous pouvez écrite votre code Python en le faisant précéder de la déclaration `%%tutor`.\n",
        "\n",
        "Exemple :\n",
        "\n",
        "```python\n",
        "%%tutor\n",
        "\n",
        "# code Python\n",
        "liste = []\n",
        "for i in range(10):\n",
        "    liste.append(i ** 2)\n",
        "```\n",
        "\n",
        "Une fois la cellule exécutée, une interface de contrôle s'affiche. Cette interface vous permet de visualiser le code, de l'exécuter ligne par ligne, de repérer la ligne qui vient d'être exécutée et la ligne qui sera exécutée lors du pas suivant ainsi que de suivre le remplissage des listes et l'évolution des variables.\n",
        "\n",
        "\n",
        "## Python Tutor en action\n",
        "\n",
        "Démo interactive (*attention, le chargement peut être long*) : [![Binder](https://mybinder.org/badge_logo.svg)](https://mybinder.org/v2/gh/codekodo/documentation/master?filepath=Comment%2520ex%25C3%25A9cuter%2520un%2520programme%2520Python%2520pas%2520%25C3%25A0%2520pas.ipynb)\n",
        "\n",
        "<br />\n",
        "<br />"
      ]
    },
    {
      "cell_type": "code",
      "metadata": {
        "id": "s-_H37CeJ36l",
        "colab_type": "code",
        "colab": {}
      },
      "source": [
        "!pip install metakernel\n",
        "from metakernel import register_ipython_magics\n",
        "register_ipython_magics();"
      ],
      "execution_count": 0,
      "outputs": []
    },
    {
      "cell_type": "code",
      "metadata": {
        "id": "BaZnEQnBKaZS",
        "colab_type": "code",
        "colab": {
          "base_uri": "https://localhost:8080/",
          "height": 521
        },
        "outputId": "94ab0258-5794-4f18-9c6d-a3f8146ed039"
      },
      "source": [
        "%%tutor\n",
        "\n",
        "# code Python\n",
        "liste = []\n",
        "for i in range(10):\n",
        "    liste.append(i ** 2)"
      ],
      "execution_count": 3,
      "outputs": [
        {
          "output_type": "display_data",
          "data": {
            "text/html": [
              "\n",
              "        <iframe\n",
              "            width=\"100%\"\n",
              "            height=\"500\"\n",
              "            src=\"https://pythontutor.com/iframe-embed.html#code=%0A%23%20code%20Python%0Aliste%20%3D%20%5B%5D%0Afor%20i%20in%20range%2810%29%3A%0A%20%20%20%20liste.append%28i%20%2A%2A%202%29&origin=opt-frontend.js&cumulative=false&heapPrimitives=false&textReferences=false&py=3&rawInputLstJSON=%5B%5D&curInstr=0&codeDivWidth=350&codeDivHeight=400\"\n",
              "            frameborder=\"0\"\n",
              "            allowfullscreen\n",
              "        ></iframe>\n",
              "        "
            ],
            "text/plain": [
              "<IPython.lib.display.IFrame at 0x7f2cf51f46a0>"
            ]
          },
          "metadata": {
            "tags": []
          }
        }
      ]
    }
  ]
}